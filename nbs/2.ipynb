{
 "cells": [
  {
   "cell_type": "code",
   "execution_count": 1,
   "metadata": {},
   "outputs": [],
   "source": [
    "%load_ext autoreload\n",
    "%autoreload 2\n",
    "\n",
    "import sys\n",
    "sys.path.append('..')"
   ]
  },
  {
   "cell_type": "code",
   "execution_count": 2,
   "metadata": {},
   "outputs": [],
   "source": [
    "import aoc"
   ]
  },
  {
   "cell_type": "code",
   "execution_count": 11,
   "metadata": {},
   "outputs": [],
   "source": [
    "inp = aoc.load_input(2)"
   ]
  },
  {
   "cell_type": "code",
   "execution_count": 12,
   "metadata": {},
   "outputs": [
    {
     "data": {
      "text/plain": [
       "'forward 3'"
      ]
     },
     "execution_count": 12,
     "metadata": {},
     "output_type": "execute_result"
    }
   ],
   "source": [
    "inp[0]"
   ]
  },
  {
   "cell_type": "code",
   "execution_count": 13,
   "metadata": {},
   "outputs": [],
   "source": [
    "def preprocess(inp):\n",
    "    out = []\n",
    "    for i in inp:\n",
    "        x, y = i.split(' ')\n",
    "        out.append((x, int(y)))\n",
    "\n",
    "    return out"
   ]
  },
  {
   "cell_type": "code",
   "execution_count": 14,
   "metadata": {},
   "outputs": [],
   "source": [
    "inp = preprocess(inp)"
   ]
  },
  {
   "cell_type": "code",
   "execution_count": 15,
   "metadata": {},
   "outputs": [
    {
     "data": {
      "text/plain": [
       "('forward', 3)"
      ]
     },
     "execution_count": 15,
     "metadata": {},
     "output_type": "execute_result"
    }
   ],
   "source": [
    "inp[0]"
   ]
  },
  {
   "cell_type": "code",
   "execution_count": 18,
   "metadata": {},
   "outputs": [],
   "source": [
    "def handle_instruction(instruction):\n",
    "    direction, value = instruction\n",
    "    if direction == 'forward':\n",
    "        return (0, value)\n",
    "    elif direction == 'down':\n",
    "        return (1, value)\n",
    "    elif direction == 'up':\n",
    "        return (1, -value)\n",
    "\n",
    "def handle_instructions(instructions):\n",
    "    res = [0, 0]\n",
    "    for instruction in instructions:\n",
    "        idx, value = handle_instruction(instruction)\n",
    "        res[idx] += value\n",
    "    return res[0] * res[1]"
   ]
  },
  {
   "cell_type": "code",
   "execution_count": 19,
   "metadata": {},
   "outputs": [
    {
     "data": {
      "text/plain": [
       "2147104"
      ]
     },
     "execution_count": 19,
     "metadata": {},
     "output_type": "execute_result"
    }
   ],
   "source": [
    "handle_instructions(inp)"
   ]
  },
  {
   "cell_type": "code",
   "execution_count": 22,
   "metadata": {},
   "outputs": [],
   "source": [
    "def handle_instruction(instruction, aim):\n",
    "    direction, value = instruction\n",
    "    if direction == 'forward':\n",
    "        return [('hor', value), ('depth', aim*value)]\n",
    "    elif direction == 'down':\n",
    "        return [('aim', value)]\n",
    "    elif direction == 'up':\n",
    "        return [('aim', -value)]\n",
    "\n",
    "def handle_instructions(instructions):\n",
    "    res = {\n",
    "        'aim': 0,\n",
    "        'hor': 0,\n",
    "        'depth': 0\n",
    "    }\n",
    "    for instruction in instructions:\n",
    "        instruction_res = handle_instruction(instruction, res['aim'])\n",
    "        for key, value in instruction_res:\n",
    "            res[key] += value\n",
    "    return res['hor'] * res['depth']"
   ]
  },
  {
   "cell_type": "code",
   "execution_count": 23,
   "metadata": {},
   "outputs": [
    {
     "data": {
      "text/plain": [
       "2044620088"
      ]
     },
     "execution_count": 23,
     "metadata": {},
     "output_type": "execute_result"
    }
   ],
   "source": [
    "handle_instructions(inp)"
   ]
  },
  {
   "cell_type": "code",
   "execution_count": null,
   "metadata": {},
   "outputs": [],
   "source": []
  }
 ],
 "metadata": {
  "interpreter": {
   "hash": "516e23445ee86c7367530b11403e49ced764843306e708b48758770e4cd0ba2c"
  },
  "kernelspec": {
   "display_name": "Python 3.9.5 64-bit ('3.9.5': pyenv)",
   "language": "python",
   "name": "python3"
  },
  "language_info": {
   "codemirror_mode": {
    "name": "ipython",
    "version": 3
   },
   "file_extension": ".py",
   "mimetype": "text/x-python",
   "name": "python",
   "nbconvert_exporter": "python",
   "pygments_lexer": "ipython3",
   "version": "3.9.5"
  },
  "orig_nbformat": 4
 },
 "nbformat": 4,
 "nbformat_minor": 2
}
