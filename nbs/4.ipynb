{
 "cells": [
  {
   "cell_type": "code",
   "execution_count": 1,
   "metadata": {},
   "outputs": [],
   "source": [
    "%load_ext autoreload\n",
    "%autoreload 2\n",
    "\n",
    "import sys\n",
    "sys.path.append('..')\n",
    "\n",
    "import aoc\n",
    "inp = aoc.load_input(4)"
   ]
  },
  {
   "cell_type": "code",
   "execution_count": 2,
   "metadata": {},
   "outputs": [
    {
     "data": {
      "text/plain": [
       "['49,48,98,84,71,59,37,36,6,21,46,30,5,33,3,62,63,45,43,35,65,77,57,75,19,44,4,76,88,92,12,27,7,51,14,72,96,9,0,17,83,64,38,95,54,20,1,74,69,80,81,56,10,68,42,15,99,53,93,94,47,13,29,34,60,41,82,90,25,85,78,91,32,70,58,28,61,24,55,87,39,11,79,50,22,8,89,26,16,2,73,23,18,66,52,31,86,97,67,40',\n",
       " '',\n",
       " '86 46 47 61 57']"
      ]
     },
     "execution_count": 2,
     "metadata": {},
     "output_type": "execute_result"
    }
   ],
   "source": [
    "inp[:3]"
   ]
  },
  {
   "cell_type": "code",
   "execution_count": 6,
   "metadata": {},
   "outputs": [],
   "source": [
    "calls = inp[0].split(',')"
   ]
  },
  {
   "cell_type": "code",
   "execution_count": 178,
   "metadata": {},
   "outputs": [],
   "source": [
    "def chunks(lst, n):\n",
    "    for i in range(0, len(lst), n):\n",
    "        yield lst[i:i + n]\n",
    "\n",
    "def parse_calls(calls):\n",
    "    return calls.split(',')\n",
    "\n",
    "def parse_boards(boards):\n",
    "    parsed_boards = []\n",
    "    for board in chunks(boards, 6):\n",
    "        parsed_boards.append(\" \".join(board).split())\n",
    "    return parsed_boards\n",
    "\n",
    "def parse_input(inp):\n",
    "    calls, boards = inp[0], inp[2:]\n",
    "    return parse_calls(calls), parse_boards(boards)\n",
    "\n",
    "def get_wincons(board_size):\n",
    "    wincons = []\n",
    "    for i in chunks(range(board_size**2), board_size):\n",
    "        wincons.append(list([str(n) for n in i]))\n",
    "    for i in range(board_size):\n",
    "        wincons.append(list([str(n) for n in range(i, board_size**2, board_size)]))\n",
    "    return wincons\n",
    "\n",
    "def initialize_board_states(boards):\n",
    "    board_states = []\n",
    "    for _ in boards:\n",
    "        board_states.append([])\n",
    "    return board_states\n",
    "\n",
    "def check_win(board_state, wincons):\n",
    "    for wincon in wincons:\n",
    "        if all(x in board_state for x in wincon):\n",
    "            return True\n",
    "    return False\n",
    "\n",
    "def handle_winner(board, board_state, call, idx):\n",
    "    unmarked_idxs = list(set(list(range(len(board)))).difference(set([int(x) for x in board_state])))\n",
    "    sum_unmarked = sum([int(board[i]) for i in unmarked_idxs])\n",
    "    if idx == 86:\n",
    "        print(sum_unmarked * int(call))\n",
    "\n",
    "def handle_call(call, boards, board_states, wincons, winners):\n",
    "    for idx, board in enumerate(boards):\n",
    "        try:\n",
    "            board_state = board_states[idx]\n",
    "            board_state.append(str(board.index(call)))\n",
    "            win = check_win(board_states[idx], wincons)\n",
    "            if win:\n",
    "                handle_winner(board, board_state, call, idx)\n",
    "                winners.append(idx)\n",
    "        except ValueError:\n",
    "            pass\n",
    "    return board_states \n",
    "\n",
    "def solve(inp):\n",
    "    calls, boards = parse_input(inp)\n",
    "    wincons = get_wincons(5)\n",
    "    board_states = initialize_board_states(boards)\n",
    "    winners = []\n",
    "    for call in calls:\n",
    "        board_states = handle_call(call, boards, board_states, wincons, winners)\n",
    "    return winners"
   ]
  },
  {
   "cell_type": "code",
   "execution_count": 179,
   "metadata": {},
   "outputs": [
    {
     "name": "stdout",
     "output_type": "stream",
     "text": [
      "4624\n",
      "574\n",
      "15622\n",
      "5673\n",
      "8342\n",
      "0\n"
     ]
    }
   ],
   "source": [
    "winners = solve(inp)"
   ]
  },
  {
   "cell_type": "code",
   "execution_count": null,
   "metadata": {},
   "outputs": [],
   "source": []
  }
 ],
 "metadata": {
  "interpreter": {
   "hash": "33fd7628444a41cce5e978505fce3e021ea278eb18688fe02d96912d22fc070c"
  },
  "kernelspec": {
   "display_name": "Python 3.9.5 64-bit ('.venv': poetry)",
   "language": "python",
   "name": "python3"
  },
  "language_info": {
   "codemirror_mode": {
    "name": "ipython",
    "version": 3
   },
   "file_extension": ".py",
   "mimetype": "text/x-python",
   "name": "python",
   "nbconvert_exporter": "python",
   "pygments_lexer": "ipython3",
   "version": "3.9.5"
  },
  "orig_nbformat": 4
 },
 "nbformat": 4,
 "nbformat_minor": 2
}
