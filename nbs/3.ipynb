{
 "cells": [
  {
   "cell_type": "code",
   "execution_count": 54,
   "metadata": {},
   "outputs": [
    {
     "name": "stdout",
     "output_type": "stream",
     "text": [
      "The autoreload extension is already loaded. To reload it, use:\n",
      "  %reload_ext autoreload\n"
     ]
    }
   ],
   "source": [
    "%load_ext autoreload\n",
    "%autoreload 2\n",
    "\n",
    "import sys\n",
    "sys.path.append('..')\n",
    "\n",
    "import aoc\n",
    "inp = aoc.load_input(3)"
   ]
  },
  {
   "cell_type": "code",
   "execution_count": 8,
   "metadata": {},
   "outputs": [
    {
     "data": {
      "text/plain": [
       "['100000101101', '011011010101', '000000111000']"
      ]
     },
     "execution_count": 8,
     "metadata": {},
     "output_type": "execute_result"
    }
   ],
   "source": [
    "inp[:3]"
   ]
  },
  {
   "cell_type": "code",
   "execution_count": 5,
   "metadata": {},
   "outputs": [],
   "source": [
    "from collections import Counter"
   ]
  },
  {
   "cell_type": "code",
   "execution_count": 13,
   "metadata": {},
   "outputs": [],
   "source": [
    "def solve(inp):\n",
    "    gamma = ''\n",
    "    epsilon = ''\n",
    "    for i in range(len(inp[0])):\n",
    "        c = Counter([x[i] for x in inp])\n",
    "        gamma += c.most_common(1)[0][0]\n",
    "        epsilon += c.most_common()[-1][0]\n",
    "    power = int(gamma, 2) * int(epsilon, 2)\n",
    "    return power"
   ]
  },
  {
   "cell_type": "code",
   "execution_count": 14,
   "metadata": {},
   "outputs": [
    {
     "data": {
      "text/plain": [
       "3687446"
      ]
     },
     "execution_count": 14,
     "metadata": {},
     "output_type": "execute_result"
    }
   ],
   "source": [
    "solve(inp)"
   ]
  },
  {
   "cell_type": "code",
   "execution_count": 70,
   "metadata": {},
   "outputs": [],
   "source": [
    "from copy import deepcopy\n",
    "\n",
    "def find_oxygen(inp):\n",
    "    state = deepcopy(inp)\n",
    "    pos = 0\n",
    "    while len(state) > 1:\n",
    "        c = Counter([x[pos] for x in state])\n",
    "        counts = c.most_common()\n",
    "        most_common, mcc = counts[0]\n",
    "        least_common, lcc = counts[-1]\n",
    "        if mcc == lcc:\n",
    "            keep = '1'\n",
    "        else:\n",
    "            keep = most_common\n",
    "        state = [x for x in state if x[pos] == keep]\n",
    "        pos += 1\n",
    "    return state[0]\n",
    "\n",
    "def find_co2(inp):\n",
    "    state = deepcopy(inp)\n",
    "    pos = 0\n",
    "    while len(state) > 1:\n",
    "        c = Counter([x[pos] for x in state])\n",
    "        counts = c.most_common()\n",
    "        most_common, mcc = counts[0]\n",
    "        least_common, lcc = counts[-1]\n",
    "        if mcc == lcc:\n",
    "            keep = '0'\n",
    "        else:\n",
    "            keep = least_common\n",
    "        state = [x for x in state if x[pos] == keep]\n",
    "        pos += 1\n",
    "    return state[0]\n",
    "\n",
    "def solve2(inp):\n",
    "    oxygen = find_oxygen(inp)\n",
    "    co2 = find_co2(inp)\n",
    "    life = int(oxygen, 2) * int(co2, 2)\n",
    "    return life"
   ]
  },
  {
   "cell_type": "code",
   "execution_count": 71,
   "metadata": {},
   "outputs": [],
   "source": [
    "test = [\n",
    "    '00100',\n",
    "    '11110',\n",
    "    '10110',\n",
    "    '10111',\n",
    "    '10101',\n",
    "    '01111',\n",
    "    '00111',\n",
    "    '11100',\n",
    "    '10000',\n",
    "    '11001',\n",
    "    '00010',\n",
    "    '01010'\n",
    "]"
   ]
  },
  {
   "cell_type": "code",
   "execution_count": 72,
   "metadata": {},
   "outputs": [
    {
     "data": {
      "text/plain": [
       "230"
      ]
     },
     "execution_count": 72,
     "metadata": {},
     "output_type": "execute_result"
    }
   ],
   "source": [
    "solve2(test)"
   ]
  },
  {
   "cell_type": "code",
   "execution_count": 73,
   "metadata": {},
   "outputs": [
    {
     "data": {
      "text/plain": [
       "4406844"
      ]
     },
     "execution_count": 73,
     "metadata": {},
     "output_type": "execute_result"
    }
   ],
   "source": [
    "solve2(inp)"
   ]
  },
  {
   "cell_type": "code",
   "execution_count": null,
   "metadata": {},
   "outputs": [],
   "source": []
  }
 ],
 "metadata": {
  "interpreter": {
   "hash": "516e23445ee86c7367530b11403e49ced764843306e708b48758770e4cd0ba2c"
  },
  "kernelspec": {
   "display_name": "Python 3.9.5 64-bit ('3.9.5': pyenv)",
   "language": "python",
   "name": "python3"
  },
  "language_info": {
   "codemirror_mode": {
    "name": "ipython",
    "version": 3
   },
   "file_extension": ".py",
   "mimetype": "text/x-python",
   "name": "python",
   "nbconvert_exporter": "python",
   "pygments_lexer": "ipython3",
   "version": "3.9.5"
  },
  "orig_nbformat": 4
 },
 "nbformat": 4,
 "nbformat_minor": 2
}
